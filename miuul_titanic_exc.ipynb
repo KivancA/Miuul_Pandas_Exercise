{
  "nbformat": 4,
  "nbformat_minor": 0,
  "metadata": {
    "colab": {
      "provenance": []
    },
    "kernelspec": {
      "name": "python3",
      "display_name": "Python 3"
    },
    "language_info": {
      "name": "python"
    }
  },
  "cells": [
    {
      "cell_type": "markdown",
      "source": [
        " ⛵**TITANIC** ***MIUUL PANDAS EXERCISE***\n"
      ],
      "metadata": {
        "id": "34BKn9Jvpwom"
      }
    },
    {
      "cell_type": "code",
      "execution_count": 5,
      "metadata": {
        "id": "p1lS9pDWk9Yp"
      },
      "outputs": [],
      "source": [
        "import pandas as pd\n",
        "import seaborn as sns\n",
        "###Görev 1: Seaborn kütüphanesi içerisinden Titanic veri setini tanımlayınız.\n",
        "df = sns.load_dataset(\"titanic\")"
      ]
    },
    {
      "cell_type": "code",
      "source": [
        "###Görev 2: Titanic veri setindeki kadın ve erkek yolcuların sayısını bulunuz.\n",
        "sex=df[\"sex\"].value_counts()\n",
        "print(sex)"
      ],
      "metadata": {
        "colab": {
          "base_uri": "https://localhost:8080/"
        },
        "id": "rpM1uvnNnAQd",
        "outputId": "4719428b-8a5a-4b06-c1d1-310c31376e84"
      },
      "execution_count": 7,
      "outputs": [
        {
          "output_type": "stream",
          "name": "stdout",
          "text": [
            "male      577\n",
            "female    314\n",
            "Name: sex, dtype: int64\n"
          ]
        }
      ]
    },
    {
      "cell_type": "code",
      "source": [
        "###Görev 3: Her bir sutuna ait unique değerlerin sayısını bulunuz.\n",
        "unique_counts = df.nunique()\n",
        "print(unique_counts)\n"
      ],
      "metadata": {
        "colab": {
          "base_uri": "https://localhost:8080/"
        },
        "id": "QW3wmAt0obh8",
        "outputId": "9f836aba-5dcb-4b44-881e-e59085b8d1f1"
      },
      "execution_count": 9,
      "outputs": [
        {
          "output_type": "stream",
          "name": "stdout",
          "text": [
            "survived         2\n",
            "pclass           3\n",
            "sex              2\n",
            "age             88\n",
            "sibsp            7\n",
            "parch            7\n",
            "fare           248\n",
            "embarked         3\n",
            "class            3\n",
            "who              3\n",
            "adult_male       2\n",
            "deck             7\n",
            "embark_town      3\n",
            "alive            2\n",
            "alone            2\n",
            "dtype: int64\n"
          ]
        }
      ]
    },
    {
      "cell_type": "code",
      "source": [
        "###Görev 4: pclass değişkeninin unique değerlerinin sayısını bulunuz\n",
        "unique_pclass_values = df[\"pclass\"].nunique()\n",
        "print(\"pclass değişkenine ait unique değerlerinin sayısı:\", unique_pclass_values)"
      ],
      "metadata": {
        "colab": {
          "base_uri": "https://localhost:8080/"
        },
        "id": "GCMvlWJupIKl",
        "outputId": "5b8b2cff-a41c-43ab-8c5d-70bdf439067b"
      },
      "execution_count": 10,
      "outputs": [
        {
          "output_type": "stream",
          "name": "stdout",
          "text": [
            "pclass değişkenine ait unique değerlerinin sayısı: 3\n"
          ]
        }
      ]
    },
    {
      "cell_type": "code",
      "source": [
        "###Görev 5: pclass ve parch değişkenlerinin unique değerlerinin sayısını bulunuz.\n",
        "unique_pclass = df['pclass'].nunique()\n",
        "unique_parch = df['parch'].nunique()\n",
        "\n",
        "print(\"pclass unique değer sayısı:\", unique_pclass)\n",
        "print(\"parch unique değer sayısı:\", unique_parch)"
      ],
      "metadata": {
        "colab": {
          "base_uri": "https://localhost:8080/"
        },
        "id": "Ej5fBPxMpsrZ",
        "outputId": "2659fb61-9ff2-41cd-fab6-c58bb176cdbf"
      },
      "execution_count": 12,
      "outputs": [
        {
          "output_type": "stream",
          "name": "stdout",
          "text": [
            "pclass unique değer sayısı: 3\n",
            "parch unique değer sayısı: 7\n"
          ]
        }
      ]
    },
    {
      "cell_type": "code",
      "source": [
        "###Görev 6: embarked değişkeninin tipini kontrol ediniz. Tipini category olarak değiştiriniz ve tekrar kontrol ediniz.\n",
        "print(\"embarked değişkeninin veri tipi:\", df[\"embarked\"].dtypes)\n",
        "df[\"embarked\"] = df[\"embarked\"].astype(\"category\")\n",
        "print(\"embarked değişkeninin güncellendikten sonraki veri tipi:\", df[\"embarked\"].dtypes)"
      ],
      "metadata": {
        "colab": {
          "base_uri": "https://localhost:8080/"
        },
        "id": "2bPbs4gSqnRG",
        "outputId": "4670fac1-3ddf-4208-a674-8cdb477f286f"
      },
      "execution_count": 13,
      "outputs": [
        {
          "output_type": "stream",
          "name": "stdout",
          "text": [
            "embarked değişkenininveri tipi: object\n",
            "embarked değişkeninin güncellendikten sonraki veri tipi: category\n"
          ]
        }
      ]
    },
    {
      "cell_type": "code",
      "source": [
        "###Görev 7: embarked değeri C olanların tüm bilgelerini gösteriniz.\n",
        "embarked_cpassengers = df[df[\"embarked\"] == \"C\"]\n",
        "print(embarked_cpassengers)\n"
      ],
      "metadata": {
        "colab": {
          "base_uri": "https://localhost:8080/"
        },
        "id": "fyxMott0rBaZ",
        "outputId": "20dbf1c8-727e-43f6-c31b-73c198d911f8"
      },
      "execution_count": 16,
      "outputs": [
        {
          "output_type": "stream",
          "name": "stdout",
          "text": [
            "     survived  pclass     sex   age  sibsp  parch     fare embarked   class  \\\n",
            "1           1       1  female  38.0      1      0  71.2833        C   First   \n",
            "9           1       2  female  14.0      1      0  30.0708        C  Second   \n",
            "19          1       3  female   NaN      0      0   7.2250        C   Third   \n",
            "26          0       3    male   NaN      0      0   7.2250        C   Third   \n",
            "30          0       1    male  40.0      0      0  27.7208        C   First   \n",
            "..        ...     ...     ...   ...    ...    ...      ...      ...     ...   \n",
            "866         1       2  female  27.0      1      0  13.8583        C  Second   \n",
            "874         1       2  female  28.0      1      0  24.0000        C  Second   \n",
            "875         1       3  female  15.0      0      0   7.2250        C   Third   \n",
            "879         1       1  female  56.0      0      1  83.1583        C   First   \n",
            "889         1       1    male  26.0      0      0  30.0000        C   First   \n",
            "\n",
            "       who  adult_male deck embark_town alive  alone  \n",
            "1    woman       False    C   Cherbourg   yes  False  \n",
            "9    child       False  NaN   Cherbourg   yes  False  \n",
            "19   woman       False  NaN   Cherbourg   yes   True  \n",
            "26     man        True  NaN   Cherbourg    no   True  \n",
            "30     man        True  NaN   Cherbourg    no   True  \n",
            "..     ...         ...  ...         ...   ...    ...  \n",
            "866  woman       False  NaN   Cherbourg   yes  False  \n",
            "874  woman       False  NaN   Cherbourg   yes  False  \n",
            "875  child       False  NaN   Cherbourg   yes   True  \n",
            "879  woman       False    C   Cherbourg   yes  False  \n",
            "889    man        True    C   Cherbourg   yes   True  \n",
            "\n",
            "[168 rows x 15 columns]\n"
          ]
        }
      ]
    },
    {
      "cell_type": "code",
      "source": [
        "###Görev 8: embarked değeri S olmayanların tüm bilgelerini gösteriniz.\n",
        "embarked_nonspassengers = df[df[\"embarked\"] != \"S\"]\n",
        "print(embarked_nonspassengers)"
      ],
      "metadata": {
        "colab": {
          "base_uri": "https://localhost:8080/"
        },
        "id": "OSWnwH36rTrc",
        "outputId": "99c24bec-b523-486f-e5fa-d49adacdf849"
      },
      "execution_count": 17,
      "outputs": [
        {
          "output_type": "stream",
          "name": "stdout",
          "text": [
            "     survived  pclass     sex   age  sibsp  parch     fare embarked   class  \\\n",
            "1           1       1  female  38.0      1      0  71.2833        C   First   \n",
            "5           0       3    male   NaN      0      0   8.4583        Q   Third   \n",
            "9           1       2  female  14.0      1      0  30.0708        C  Second   \n",
            "16          0       3    male   2.0      4      1  29.1250        Q   Third   \n",
            "19          1       3  female   NaN      0      0   7.2250        C   Third   \n",
            "..        ...     ...     ...   ...    ...    ...      ...      ...     ...   \n",
            "875         1       3  female  15.0      0      0   7.2250        C   Third   \n",
            "879         1       1  female  56.0      0      1  83.1583        C   First   \n",
            "885         0       3  female  39.0      0      5  29.1250        Q   Third   \n",
            "889         1       1    male  26.0      0      0  30.0000        C   First   \n",
            "890         0       3    male  32.0      0      0   7.7500        Q   Third   \n",
            "\n",
            "       who  adult_male deck embark_town alive  alone  \n",
            "1    woman       False    C   Cherbourg   yes  False  \n",
            "5      man        True  NaN  Queenstown    no   True  \n",
            "9    child       False  NaN   Cherbourg   yes  False  \n",
            "16   child       False  NaN  Queenstown    no  False  \n",
            "19   woman       False  NaN   Cherbourg   yes   True  \n",
            "..     ...         ...  ...         ...   ...    ...  \n",
            "875  child       False  NaN   Cherbourg   yes   True  \n",
            "879  woman       False    C   Cherbourg   yes  False  \n",
            "885  woman       False  NaN  Queenstown    no  False  \n",
            "889    man        True    C   Cherbourg   yes   True  \n",
            "890    man        True  NaN  Queenstown    no   True  \n",
            "\n",
            "[247 rows x 15 columns]\n"
          ]
        }
      ]
    },
    {
      "cell_type": "code",
      "source": [
        "###Görev 9: Yaşı 30 dan küçük ve kadın olan yolcuların tüm bilgilerini gösteriniz.\n",
        "youngfem = df[(df[\"age\"] < 30) & (df[\"sex\"] == \"female\")]\n",
        "print(youngfem)"
      ],
      "metadata": {
        "colab": {
          "base_uri": "https://localhost:8080/"
        },
        "id": "_rSEhqjrrxMj",
        "outputId": "d40bdf07-22c8-42ac-9df8-3589531f52c5"
      },
      "execution_count": 18,
      "outputs": [
        {
          "output_type": "stream",
          "name": "stdout",
          "text": [
            "     survived  pclass     sex   age  sibsp  parch     fare embarked   class  \\\n",
            "2           1       3  female  26.0      0      0   7.9250        S   Third   \n",
            "8           1       3  female  27.0      0      2  11.1333        S   Third   \n",
            "9           1       2  female  14.0      1      0  30.0708        C  Second   \n",
            "10          1       3  female   4.0      1      1  16.7000        S   Third   \n",
            "14          0       3  female  14.0      0      0   7.8542        S   Third   \n",
            "..        ...     ...     ...   ...    ...    ...      ...      ...     ...   \n",
            "874         1       2  female  28.0      1      0  24.0000        C  Second   \n",
            "875         1       3  female  15.0      0      0   7.2250        C   Third   \n",
            "880         1       2  female  25.0      0      1  26.0000        S  Second   \n",
            "882         0       3  female  22.0      0      0  10.5167        S   Third   \n",
            "887         1       1  female  19.0      0      0  30.0000        S   First   \n",
            "\n",
            "       who  adult_male deck  embark_town alive  alone  \n",
            "2    woman       False  NaN  Southampton   yes   True  \n",
            "8    woman       False  NaN  Southampton   yes  False  \n",
            "9    child       False  NaN    Cherbourg   yes  False  \n",
            "10   child       False    G  Southampton   yes  False  \n",
            "14   child       False  NaN  Southampton    no   True  \n",
            "..     ...         ...  ...          ...   ...    ...  \n",
            "874  woman       False  NaN    Cherbourg   yes  False  \n",
            "875  child       False  NaN    Cherbourg   yes   True  \n",
            "880  woman       False  NaN  Southampton   yes  False  \n",
            "882  woman       False  NaN  Southampton    no   True  \n",
            "887  woman       False    B  Southampton   yes   True  \n",
            "\n",
            "[147 rows x 15 columns]\n"
          ]
        }
      ]
    },
    {
      "cell_type": "code",
      "source": [
        "###Görev 10: Fare'i 500'den büyük veya yaşı 70 den büyük yolcuların bilgilerini gösteriniz.\n",
        "newfare = df[(df['fare'] > 500) | (df['age'] > 70)]\n",
        "print(newfare)"
      ],
      "metadata": {
        "colab": {
          "base_uri": "https://localhost:8080/"
        },
        "id": "iscuAMuvsMd9",
        "outputId": "59a2f99e-99b0-4e8a-832e-3539bae94839"
      },
      "execution_count": 20,
      "outputs": [
        {
          "output_type": "stream",
          "name": "stdout",
          "text": [
            "     survived  pclass     sex   age  sibsp  parch      fare embarked  class  \\\n",
            "96          0       1    male  71.0      0      0   34.6542        C  First   \n",
            "116         0       3    male  70.5      0      0    7.7500        Q  Third   \n",
            "258         1       1  female  35.0      0      0  512.3292        C  First   \n",
            "493         0       1    male  71.0      0      0   49.5042        C  First   \n",
            "630         1       1    male  80.0      0      0   30.0000        S  First   \n",
            "679         1       1    male  36.0      0      1  512.3292        C  First   \n",
            "737         1       1    male  35.0      0      0  512.3292        C  First   \n",
            "851         0       3    male  74.0      0      0    7.7750        S  Third   \n",
            "\n",
            "       who  adult_male deck  embark_town alive  alone  \n",
            "96     man        True    A    Cherbourg    no   True  \n",
            "116    man        True  NaN   Queenstown    no   True  \n",
            "258  woman       False  NaN    Cherbourg   yes   True  \n",
            "493    man        True  NaN    Cherbourg    no   True  \n",
            "630    man        True    A  Southampton   yes   True  \n",
            "679    man        True    B    Cherbourg   yes  False  \n",
            "737    man        True    B    Cherbourg   yes   True  \n",
            "851    man        True  NaN  Southampton    no   True  \n"
          ]
        }
      ]
    },
    {
      "cell_type": "code",
      "source": [
        "###Görev 11: Her bir değişkendeki boş değerlerin toplamını bulunuz.\n",
        "missval = df.isnull().sum()\n",
        "print(missval)"
      ],
      "metadata": {
        "colab": {
          "base_uri": "https://localhost:8080/"
        },
        "id": "iDblHYDssoNV",
        "outputId": "e5a5682e-5382-466a-f835-3739bc5c843f"
      },
      "execution_count": 21,
      "outputs": [
        {
          "output_type": "stream",
          "name": "stdout",
          "text": [
            "survived         0\n",
            "pclass           0\n",
            "sex              0\n",
            "age            177\n",
            "sibsp            0\n",
            "parch            0\n",
            "fare             0\n",
            "embarked         2\n",
            "class            0\n",
            "who              0\n",
            "adult_male       0\n",
            "deck           688\n",
            "embark_town      2\n",
            "alive            0\n",
            "alone            0\n",
            "dtype: int64\n"
          ]
        }
      ]
    },
    {
      "cell_type": "code",
      "source": [
        "###Görev 12: who değişkenini dataframe’den çıkarınız.\n",
        "df.drop('who', axis=1, inplace=True)\n",
        "print(df)"
      ],
      "metadata": {
        "colab": {
          "base_uri": "https://localhost:8080/"
        },
        "id": "R-IDb20gs4JU",
        "outputId": "f597a11b-5c60-4863-9a27-8b44d050e1eb"
      },
      "execution_count": 22,
      "outputs": [
        {
          "output_type": "stream",
          "name": "stdout",
          "text": [
            "     survived  pclass     sex   age  sibsp  parch     fare embarked   class  \\\n",
            "0           0       3    male  22.0      1      0   7.2500        S   Third   \n",
            "1           1       1  female  38.0      1      0  71.2833        C   First   \n",
            "2           1       3  female  26.0      0      0   7.9250        S   Third   \n",
            "3           1       1  female  35.0      1      0  53.1000        S   First   \n",
            "4           0       3    male  35.0      0      0   8.0500        S   Third   \n",
            "..        ...     ...     ...   ...    ...    ...      ...      ...     ...   \n",
            "886         0       2    male  27.0      0      0  13.0000        S  Second   \n",
            "887         1       1  female  19.0      0      0  30.0000        S   First   \n",
            "888         0       3  female   NaN      1      2  23.4500        S   Third   \n",
            "889         1       1    male  26.0      0      0  30.0000        C   First   \n",
            "890         0       3    male  32.0      0      0   7.7500        Q   Third   \n",
            "\n",
            "     adult_male deck  embark_town alive  alone  \n",
            "0          True  NaN  Southampton    no  False  \n",
            "1         False    C    Cherbourg   yes  False  \n",
            "2         False  NaN  Southampton   yes   True  \n",
            "3         False    C  Southampton   yes  False  \n",
            "4          True  NaN  Southampton    no   True  \n",
            "..          ...  ...          ...   ...    ...  \n",
            "886        True  NaN  Southampton    no   True  \n",
            "887       False    B  Southampton   yes   True  \n",
            "888       False  NaN  Southampton    no  False  \n",
            "889        True    C    Cherbourg   yes   True  \n",
            "890        True  NaN   Queenstown    no   True  \n",
            "\n",
            "[891 rows x 14 columns]\n"
          ]
        }
      ]
    },
    {
      "cell_type": "code",
      "source": [
        "###Görev 13: deck değikenindeki boş değerleri deck değişkenin en çok tekrar eden değeri (mode) ile doldurunuz.\n",
        "deck_mode = df['deck'].mode().iloc[0]\n",
        "df['deck'].fillna(deck_mode, inplace=True)\n",
        "print(df)"
      ],
      "metadata": {
        "colab": {
          "base_uri": "https://localhost:8080/"
        },
        "id": "HV3N3ivNtHZw",
        "outputId": "22a78043-cb0c-4a5d-cc1c-4e055d16b204"
      },
      "execution_count": 23,
      "outputs": [
        {
          "output_type": "stream",
          "name": "stdout",
          "text": [
            "     survived  pclass     sex   age  sibsp  parch     fare embarked   class  \\\n",
            "0           0       3    male  22.0      1      0   7.2500        S   Third   \n",
            "1           1       1  female  38.0      1      0  71.2833        C   First   \n",
            "2           1       3  female  26.0      0      0   7.9250        S   Third   \n",
            "3           1       1  female  35.0      1      0  53.1000        S   First   \n",
            "4           0       3    male  35.0      0      0   8.0500        S   Third   \n",
            "..        ...     ...     ...   ...    ...    ...      ...      ...     ...   \n",
            "886         0       2    male  27.0      0      0  13.0000        S  Second   \n",
            "887         1       1  female  19.0      0      0  30.0000        S   First   \n",
            "888         0       3  female   NaN      1      2  23.4500        S   Third   \n",
            "889         1       1    male  26.0      0      0  30.0000        C   First   \n",
            "890         0       3    male  32.0      0      0   7.7500        Q   Third   \n",
            "\n",
            "     adult_male deck  embark_town alive  alone  \n",
            "0          True    C  Southampton    no  False  \n",
            "1         False    C    Cherbourg   yes  False  \n",
            "2         False    C  Southampton   yes   True  \n",
            "3         False    C  Southampton   yes  False  \n",
            "4          True    C  Southampton    no   True  \n",
            "..          ...  ...          ...   ...    ...  \n",
            "886        True    C  Southampton    no   True  \n",
            "887       False    B  Southampton   yes   True  \n",
            "888       False    C  Southampton    no  False  \n",
            "889        True    C    Cherbourg   yes   True  \n",
            "890        True    C   Queenstown    no   True  \n",
            "\n",
            "[891 rows x 14 columns]\n"
          ]
        }
      ]
    },
    {
      "cell_type": "code",
      "source": [
        "###Görev 14: age değikenindeki boş değerleri age değişkenin medyanı ile doldurunuz.\n",
        "age_medyan = df['age'].median()\n",
        "df['age'].fillna(age_medyan, inplace=True)\n",
        "print(df)"
      ],
      "metadata": {
        "colab": {
          "base_uri": "https://localhost:8080/"
        },
        "id": "43qeZOSPtaVS",
        "outputId": "ce976291-3220-4ea0-eb89-5759ea9ae0a6"
      },
      "execution_count": 24,
      "outputs": [
        {
          "output_type": "stream",
          "name": "stdout",
          "text": [
            "     survived  pclass     sex   age  sibsp  parch     fare embarked   class  \\\n",
            "0           0       3    male  22.0      1      0   7.2500        S   Third   \n",
            "1           1       1  female  38.0      1      0  71.2833        C   First   \n",
            "2           1       3  female  26.0      0      0   7.9250        S   Third   \n",
            "3           1       1  female  35.0      1      0  53.1000        S   First   \n",
            "4           0       3    male  35.0      0      0   8.0500        S   Third   \n",
            "..        ...     ...     ...   ...    ...    ...      ...      ...     ...   \n",
            "886         0       2    male  27.0      0      0  13.0000        S  Second   \n",
            "887         1       1  female  19.0      0      0  30.0000        S   First   \n",
            "888         0       3  female  28.0      1      2  23.4500        S   Third   \n",
            "889         1       1    male  26.0      0      0  30.0000        C   First   \n",
            "890         0       3    male  32.0      0      0   7.7500        Q   Third   \n",
            "\n",
            "     adult_male deck  embark_town alive  alone  \n",
            "0          True    C  Southampton    no  False  \n",
            "1         False    C    Cherbourg   yes  False  \n",
            "2         False    C  Southampton   yes   True  \n",
            "3         False    C  Southampton   yes  False  \n",
            "4          True    C  Southampton    no   True  \n",
            "..          ...  ...          ...   ...    ...  \n",
            "886        True    C  Southampton    no   True  \n",
            "887       False    B  Southampton   yes   True  \n",
            "888       False    C  Southampton    no  False  \n",
            "889        True    C    Cherbourg   yes   True  \n",
            "890        True    C   Queenstown    no   True  \n",
            "\n",
            "[891 rows x 14 columns]\n"
          ]
        }
      ]
    },
    {
      "cell_type": "code",
      "source": [
        "###Görev 15: survived değişkeninin pclass ve cinsiyet değişkenleri kırılımınında sum, count, mean değerlerini bulunuz.\n",
        "onbes = df.groupby(['pclass', 'sex'])['survived'].agg(['sum', 'count', 'mean'])\n",
        "print(onbes)"
      ],
      "metadata": {
        "colab": {
          "base_uri": "https://localhost:8080/"
        },
        "id": "JJmkk7y4ttBv",
        "outputId": "bef9b013-307a-46c5-f4c6-f2f62dccb64c"
      },
      "execution_count": 26,
      "outputs": [
        {
          "output_type": "stream",
          "name": "stdout",
          "text": [
            "               sum  count      mean\n",
            "pclass sex                         \n",
            "1      female   91     94  0.968085\n",
            "       male     45    122  0.368852\n",
            "2      female   70     76  0.921053\n",
            "       male     17    108  0.157407\n",
            "3      female   72    144  0.500000\n",
            "       male     47    347  0.135447\n"
          ]
        }
      ]
    },
    {
      "cell_type": "code",
      "source": [
        "###Görev 16: 30 yaşın altında olanlar 1, 30'a eşit ve üstünde olanlara 0 vericek bir fonksiyon yazın. Yazdığınız fonksiyonu kullanarak titanik veri\n",
        "## setinde age_flag adında bir değişken oluşturunuz oluşturunuz. (apply ve lambda yapılarını kullanınız)\n",
        "def age_flag(row):\n",
        "    if row['age'] < 30:\n",
        "        return 1\n",
        "    else:\n",
        "        return 0\n",
        "df['age_flag'] = df.apply(lambda row: age_flag(row), axis=1)\n",
        "print(df)"
      ],
      "metadata": {
        "colab": {
          "base_uri": "https://localhost:8080/"
        },
        "id": "81RGwWwquH0M",
        "outputId": "c63fcf6b-f373-420c-c6a7-6c21433d27cb"
      },
      "execution_count": 27,
      "outputs": [
        {
          "output_type": "stream",
          "name": "stdout",
          "text": [
            "     survived  pclass     sex   age  sibsp  parch     fare embarked   class  \\\n",
            "0           0       3    male  22.0      1      0   7.2500        S   Third   \n",
            "1           1       1  female  38.0      1      0  71.2833        C   First   \n",
            "2           1       3  female  26.0      0      0   7.9250        S   Third   \n",
            "3           1       1  female  35.0      1      0  53.1000        S   First   \n",
            "4           0       3    male  35.0      0      0   8.0500        S   Third   \n",
            "..        ...     ...     ...   ...    ...    ...      ...      ...     ...   \n",
            "886         0       2    male  27.0      0      0  13.0000        S  Second   \n",
            "887         1       1  female  19.0      0      0  30.0000        S   First   \n",
            "888         0       3  female  28.0      1      2  23.4500        S   Third   \n",
            "889         1       1    male  26.0      0      0  30.0000        C   First   \n",
            "890         0       3    male  32.0      0      0   7.7500        Q   Third   \n",
            "\n",
            "     adult_male deck  embark_town alive  alone  age_flag  \n",
            "0          True    C  Southampton    no  False         1  \n",
            "1         False    C    Cherbourg   yes  False         0  \n",
            "2         False    C  Southampton   yes   True         1  \n",
            "3         False    C  Southampton   yes  False         0  \n",
            "4          True    C  Southampton    no   True         0  \n",
            "..          ...  ...          ...   ...    ...       ...  \n",
            "886        True    C  Southampton    no   True         1  \n",
            "887       False    B  Southampton   yes   True         1  \n",
            "888       False    C  Southampton    no  False         1  \n",
            "889        True    C    Cherbourg   yes   True         1  \n",
            "890        True    C   Queenstown    no   True         0  \n",
            "\n",
            "[891 rows x 15 columns]\n"
          ]
        }
      ]
    },
    {
      "cell_type": "code",
      "source": [
        "###Görev 17: Seaborn kütüphanesi içerisinden Tips veri setini tanımlayınız.\n",
        "tips = sns.load_dataset('tips')\n",
        "print(tips.head())"
      ],
      "metadata": {
        "colab": {
          "base_uri": "https://localhost:8080/"
        },
        "id": "m1X-XYgFuiQC",
        "outputId": "2139e8b3-7c32-418d-bb15-1c878af0796f"
      },
      "execution_count": 28,
      "outputs": [
        {
          "output_type": "stream",
          "name": "stdout",
          "text": [
            "   total_bill   tip     sex smoker  day    time  size\n",
            "0       16.99  1.01  Female     No  Sun  Dinner     2\n",
            "1       10.34  1.66    Male     No  Sun  Dinner     3\n",
            "2       21.01  3.50    Male     No  Sun  Dinner     3\n",
            "3       23.68  3.31    Male     No  Sun  Dinner     2\n",
            "4       24.59  3.61  Female     No  Sun  Dinner     4\n"
          ]
        }
      ]
    },
    {
      "cell_type": "code",
      "source": [
        "###Görev 18: Time değişkeninin kategorilerine (Dinner, Lunch) göre total_bill değerlerinin toplamını, min, max ve ortalamasını bulunuz.\n",
        "onsekiz = tips.groupby('time')['total_bill'].agg(['sum', 'min', 'max', 'mean'])\n",
        "print(onsekiz)"
      ],
      "metadata": {
        "colab": {
          "base_uri": "https://localhost:8080/"
        },
        "id": "T5FaEdLxvaIK",
        "outputId": "6a5c89d1-ef16-4f59-82d4-b1fdb44cf706"
      },
      "execution_count": 29,
      "outputs": [
        {
          "output_type": "stream",
          "name": "stdout",
          "text": [
            "            sum   min    max       mean\n",
            "time                                   \n",
            "Lunch   1167.47  7.51  43.11  17.168676\n",
            "Dinner  3660.30  3.07  50.81  20.797159\n"
          ]
        }
      ]
    },
    {
      "cell_type": "code",
      "source": [
        "###Görev 19: Günlere ve time göre total_bill değerlerinin toplamını, min, max ve ortalamasını bulunuz.\n",
        "ondokuz = tips.groupby(['day', 'time'])['total_bill'].agg(['sum', 'min', 'max', 'mean'])\n",
        "print(ondokuz)"
      ],
      "metadata": {
        "colab": {
          "base_uri": "https://localhost:8080/"
        },
        "id": "CxvNMPmIvncl",
        "outputId": "3340ed0b-b3f0-4733-9dd8-c0dbfd0da2af"
      },
      "execution_count": 31,
      "outputs": [
        {
          "output_type": "stream",
          "name": "stdout",
          "text": [
            "                 sum    min    max       mean\n",
            "day  time                                    \n",
            "Thur Lunch   1077.55   7.51  43.11  17.664754\n",
            "     Dinner    18.78  18.78  18.78  18.780000\n",
            "Fri  Lunch     89.92   8.58  16.27  12.845714\n",
            "     Dinner   235.96   5.75  40.17  19.663333\n",
            "Sat  Lunch      0.00    NaN    NaN        NaN\n",
            "     Dinner  1778.40   3.07  50.81  20.441379\n",
            "Sun  Lunch      0.00    NaN    NaN        NaN\n",
            "     Dinner  1627.16   7.25  48.17  21.410000\n"
          ]
        }
      ]
    },
    {
      "cell_type": "code",
      "source": [
        "###Görev 20: Lunch zamanına ve kadın müşterilere ait total_bill ve tip değerlerinin day'e göre toplamını, min, max ve ortalamasını bulunuz.\n",
        "yirmi = tips[(tips['time'] == 'Lunch') & (tips['sex'] == 'Female')].groupby('day')[['total_bill', 'tip']].agg(['sum', 'min', 'max', 'mean'])\n",
        "print(yirmi)"
      ],
      "metadata": {
        "colab": {
          "base_uri": "https://localhost:8080/"
        },
        "id": "Tq1KMlQUwTcg",
        "outputId": "192ce546-c229-472d-ad0b-1693d0ddd5f0"
      },
      "execution_count": 32,
      "outputs": [
        {
          "output_type": "stream",
          "name": "stdout",
          "text": [
            "     total_bill                            tip                      \n",
            "            sum    min    max      mean    sum   min   max      mean\n",
            "day                                                                 \n",
            "Thur     516.11   8.35  43.11  16.64871  79.42  1.25  5.17  2.561935\n",
            "Fri       55.76  10.09  16.27  13.94000  10.98  2.00  3.48  2.745000\n",
            "Sat        0.00    NaN    NaN       NaN   0.00   NaN   NaN       NaN\n",
            "Sun        0.00    NaN    NaN       NaN   0.00   NaN   NaN       NaN\n"
          ]
        }
      ]
    },
    {
      "cell_type": "code",
      "source": [
        "###Görev 21: size'i 3'ten küçük, total_bill'i 10'dan büyük olan siparişlerin ortalaması nedir? (loc kullanınız)\n",
        "fil = tips.loc[(tips['size'] < 3) & (tips['total_bill'] > 10)]\n",
        "ort= fil['total_bill'].mean()\n",
        "print(\"Ort total_bill değeri:\", ort)"
      ],
      "metadata": {
        "colab": {
          "base_uri": "https://localhost:8080/"
        },
        "id": "TncVL42qwj5x",
        "outputId": "4dd733f2-a02b-4d0b-851a-4aab859083d3"
      },
      "execution_count": 36,
      "outputs": [
        {
          "output_type": "stream",
          "name": "stdout",
          "text": [
            "Ort total_bill değeri: 17.184965034965035\n"
          ]
        }
      ]
    },
    {
      "cell_type": "code",
      "source": [
        "###Görev 22: total_bill_tip_sum adında yeni bir değişken oluşturunuz. Her bir müşterinin ödediği totalbill ve tip in toplamını versin.\n",
        "tips['total_bill_tip_sum'] = tips['total_bill'] + tips['tip']\n",
        "print(tips)"
      ],
      "metadata": {
        "colab": {
          "base_uri": "https://localhost:8080/"
        },
        "id": "W1wUMgftxxMS",
        "outputId": "41b6cd27-e7e4-4820-8f6c-b036339131c0"
      },
      "execution_count": 37,
      "outputs": [
        {
          "output_type": "stream",
          "name": "stdout",
          "text": [
            "     total_bill   tip     sex smoker   day    time  size  total_bill_tip_sum\n",
            "0         16.99  1.01  Female     No   Sun  Dinner     2               18.00\n",
            "1         10.34  1.66    Male     No   Sun  Dinner     3               12.00\n",
            "2         21.01  3.50    Male     No   Sun  Dinner     3               24.51\n",
            "3         23.68  3.31    Male     No   Sun  Dinner     2               26.99\n",
            "4         24.59  3.61  Female     No   Sun  Dinner     4               28.20\n",
            "..          ...   ...     ...    ...   ...     ...   ...                 ...\n",
            "239       29.03  5.92    Male     No   Sat  Dinner     3               34.95\n",
            "240       27.18  2.00  Female    Yes   Sat  Dinner     2               29.18\n",
            "241       22.67  2.00    Male    Yes   Sat  Dinner     2               24.67\n",
            "242       17.82  1.75    Male     No   Sat  Dinner     2               19.57\n",
            "243       18.78  3.00  Female     No  Thur  Dinner     2               21.78\n",
            "\n",
            "[244 rows x 8 columns]\n"
          ]
        }
      ]
    },
    {
      "cell_type": "code",
      "source": [
        "###Görev 23: total_bill_tip_sum değişkenine göre büyükten küçüğe sıralayınız ve ilk 30 kişiyi yeni bir dataframe'e atayınız.\n",
        "tips['total_bill_tip_sum'] = tips['total_bill'] + tips['tip']\n",
        "newtips = tips.sort_values(by='total_bill_tip_sum', ascending=False)\n",
        "otuz = newtips.head(30)\n",
        "print(otuz)"
      ],
      "metadata": {
        "colab": {
          "base_uri": "https://localhost:8080/"
        },
        "id": "MJYmVN86yE9V",
        "outputId": "6cc8277c-4c93-4426-ca32-ad9506ae9b01"
      },
      "execution_count": 38,
      "outputs": [
        {
          "output_type": "stream",
          "name": "stdout",
          "text": [
            "     total_bill    tip     sex smoker   day    time  size  total_bill_tip_sum\n",
            "170       50.81  10.00    Male    Yes   Sat  Dinner     3               60.81\n",
            "212       48.33   9.00    Male     No   Sat  Dinner     4               57.33\n",
            "59        48.27   6.73    Male     No   Sat  Dinner     4               55.00\n",
            "156       48.17   5.00    Male     No   Sun  Dinner     6               53.17\n",
            "182       45.35   3.50    Male    Yes   Sun  Dinner     3               48.85\n",
            "197       43.11   5.00  Female    Yes  Thur   Lunch     4               48.11\n",
            "23        39.42   7.58    Male     No   Sat  Dinner     4               47.00\n",
            "102       44.30   2.50  Female    Yes   Sat  Dinner     3               46.80\n",
            "142       41.19   5.00    Male     No  Thur   Lunch     5               46.19\n",
            "95        40.17   4.73    Male    Yes   Fri  Dinner     4               44.90\n",
            "184       40.55   3.00    Male    Yes   Sun  Dinner     2               43.55\n",
            "112       38.07   4.00    Male     No   Sun  Dinner     3               42.07\n",
            "207       38.73   3.00    Male    Yes   Sat  Dinner     4               41.73\n",
            "56        38.01   3.00    Male    Yes   Sat  Dinner     4               41.01\n",
            "141       34.30   6.70    Male     No  Thur   Lunch     6               41.00\n",
            "238       35.83   4.67  Female     No   Sat  Dinner     3               40.50\n",
            "11        35.26   5.00  Female     No   Sun  Dinner     4               40.26\n",
            "52        34.81   5.20  Female     No   Sun  Dinner     4               40.01\n",
            "85        34.83   5.17  Female     No  Thur   Lunch     4               40.00\n",
            "47        32.40   6.00    Male     No   Sun  Dinner     4               38.40\n",
            "180       34.65   3.68    Male    Yes   Sun  Dinner     4               38.33\n",
            "179       34.63   3.55    Male    Yes   Sun  Dinner     2               38.18\n",
            "83        32.68   5.00    Male    Yes  Thur   Lunch     2               37.68\n",
            "39        31.27   5.00    Male     No   Sat  Dinner     3               36.27\n",
            "167       31.71   4.50    Male     No   Sun  Dinner     4               36.21\n",
            "175       32.90   3.11    Male    Yes   Sun  Dinner     2               36.01\n",
            "44        30.40   5.60    Male     No   Sun  Dinner     4               36.00\n",
            "173       31.85   3.18    Male    Yes   Sun  Dinner     2               35.03\n",
            "116       29.93   5.07    Male     No   Sun  Dinner     4               35.00\n",
            "155       29.85   5.14  Female     No   Sun  Dinner     5               34.99\n"
          ]
        }
      ]
    }
  ]
}